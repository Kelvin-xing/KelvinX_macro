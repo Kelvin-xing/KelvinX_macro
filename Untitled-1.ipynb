{
 "cells": [
  {
   "cell_type": "code",
   "execution_count": 2,
   "metadata": {},
   "outputs": [
    {
     "ename": "KeyboardInterrupt",
     "evalue": "",
     "output_type": "error",
     "traceback": [
      "\u001b[0;31m---------------------------------------------------------------------------\u001b[0m",
      "\u001b[0;31mKeyboardInterrupt\u001b[0m                         Traceback (most recent call last)",
      "\u001b[1;32m/Users/mingjiexing/Desktop/Python/Macro/Untitled-1.ipynb Cell 1\u001b[0m line \u001b[0;36m2\n\u001b[1;32m     <a href='vscode-notebook-cell:/Users/mingjiexing/Desktop/Python/Macro/Untitled-1.ipynb#W0sZmlsZQ%3D%3D?line=23'>24</a>\u001b[0m root \u001b[39m=\u001b[39m ET\u001b[39m.\u001b[39mfromstring(xml_text)\n\u001b[1;32m     <a href='vscode-notebook-cell:/Users/mingjiexing/Desktop/Python/Macro/Untitled-1.ipynb#W0sZmlsZQ%3D%3D?line=25'>26</a>\u001b[0m \u001b[39m# Validate the XML file against the XSD\u001b[39;00m\n\u001b[0;32m---> <a href='vscode-notebook-cell:/Users/mingjiexing/Desktop/Python/Macro/Untitled-1.ipynb#W0sZmlsZQ%3D%3D?line=26'>27</a>\u001b[0m \u001b[39mif\u001b[39;00m xsd\u001b[39m.\u001b[39;49mis_valid(xml_text):\n\u001b[1;32m     <a href='vscode-notebook-cell:/Users/mingjiexing/Desktop/Python/Macro/Untitled-1.ipynb#W0sZmlsZQ%3D%3D?line=27'>28</a>\u001b[0m     \u001b[39m# Parse the XML file into a dataframe\u001b[39;00m\n\u001b[1;32m     <a href='vscode-notebook-cell:/Users/mingjiexing/Desktop/Python/Macro/Untitled-1.ipynb#W0sZmlsZQ%3D%3D?line=28'>29</a>\u001b[0m     xml_data \u001b[39m=\u001b[39m xsd\u001b[39m.\u001b[39mto_dict(xml_text)\n\u001b[1;32m     <a href='vscode-notebook-cell:/Users/mingjiexing/Desktop/Python/Macro/Untitled-1.ipynb#W0sZmlsZQ%3D%3D?line=29'>30</a>\u001b[0m     df \u001b[39m=\u001b[39m pd\u001b[39m.\u001b[39mDataFrame(xml_data[\u001b[39m'\u001b[39m\u001b[39mroot\u001b[39m\u001b[39m'\u001b[39m][\u001b[39m'\u001b[39m\u001b[39mrow\u001b[39m\u001b[39m'\u001b[39m])\n",
      "File \u001b[0;32m/Library/Frameworks/Python.framework/Versions/3.11/lib/python3.11/site-packages/xmlschema/validators/schemas.py:1634\u001b[0m, in \u001b[0;36mXMLSchemaBase.is_valid\u001b[0;34m(self, source, path, schema_path, use_defaults, namespaces, max_depth, extra_validator, allow_empty)\u001b[0m\n\u001b[1;32m   1622\u001b[0m \u001b[39mdef\u001b[39;00m \u001b[39mis_valid\u001b[39m(\u001b[39mself\u001b[39m, source: Union[XMLSourceType, XMLResource],\n\u001b[1;32m   1623\u001b[0m              path: Optional[\u001b[39mstr\u001b[39m] \u001b[39m=\u001b[39m \u001b[39mNone\u001b[39;00m,\n\u001b[1;32m   1624\u001b[0m              schema_path: Optional[\u001b[39mstr\u001b[39m] \u001b[39m=\u001b[39m \u001b[39mNone\u001b[39;00m,\n\u001b[0;32m   (...)\u001b[0m\n\u001b[1;32m   1628\u001b[0m              extra_validator: Optional[ExtraValidatorType] \u001b[39m=\u001b[39m \u001b[39mNone\u001b[39;00m,\n\u001b[1;32m   1629\u001b[0m              allow_empty: \u001b[39mbool\u001b[39m \u001b[39m=\u001b[39m \u001b[39mTrue\u001b[39;00m) \u001b[39m-\u001b[39m\u001b[39m>\u001b[39m \u001b[39mbool\u001b[39m:\n\u001b[1;32m   1630\u001b[0m     \u001b[39m\"\"\"\u001b[39;00m\n\u001b[1;32m   1631\u001b[0m \u001b[39m    Like :meth:`validate` except that does not raise an exception but returns\u001b[39;00m\n\u001b[1;32m   1632\u001b[0m \u001b[39m    ``True`` if the XML data instance is valid, ``False`` if it is invalid.\u001b[39;00m\n\u001b[1;32m   1633\u001b[0m \u001b[39m    \"\"\"\u001b[39;00m\n\u001b[0;32m-> 1634\u001b[0m     error \u001b[39m=\u001b[39m \u001b[39mnext\u001b[39;49m(\u001b[39mself\u001b[39;49m\u001b[39m.\u001b[39;49miter_errors(source, path, schema_path, use_defaults, namespaces,\n\u001b[1;32m   1635\u001b[0m                                   max_depth, extra_validator, allow_empty), \u001b[39mNone\u001b[39;49;00m)\n\u001b[1;32m   1636\u001b[0m     \u001b[39mreturn\u001b[39;00m error \u001b[39mis\u001b[39;00m \u001b[39mNone\u001b[39;00m\n",
      "File \u001b[0;32m/Library/Frameworks/Python.framework/Versions/3.11/lib/python3.11/site-packages/xmlschema/validators/schemas.py:1731\u001b[0m, in \u001b[0;36mXMLSchemaBase.iter_errors\u001b[0;34m(self, source, path, schema_path, use_defaults, namespaces, max_depth, extra_validator, allow_empty)\u001b[0m\n\u001b[1;32m   1728\u001b[0m         \u001b[39myield\u001b[39;00m schema\u001b[39m.\u001b[39mvalidation_error(\u001b[39m'\u001b[39m\u001b[39mlax\u001b[39m\u001b[39m'\u001b[39m, reason, elem, resource, namespaces)\n\u001b[1;32m   1729\u001b[0m         \u001b[39mreturn\u001b[39;00m\n\u001b[0;32m-> 1731\u001b[0m \u001b[39mfor\u001b[39;00m result \u001b[39min\u001b[39;00m xsd_element\u001b[39m.\u001b[39miter_decode(elem, \u001b[39m*\u001b[39m\u001b[39m*\u001b[39mkwargs):\n\u001b[1;32m   1732\u001b[0m     \u001b[39mif\u001b[39;00m \u001b[39misinstance\u001b[39m(result, XMLSchemaValidationError):\n\u001b[1;32m   1733\u001b[0m         \u001b[39myield\u001b[39;00m result\n",
      "File \u001b[0;32m/Library/Frameworks/Python.framework/Versions/3.11/lib/python3.11/site-packages/xmlschema/validators/elements.py:740\u001b[0m, in \u001b[0;36mXsdElement.iter_decode\u001b[0;34m(self, obj, validation, **kwargs)\u001b[0m\n\u001b[1;32m    737\u001b[0m         \u001b[39mfor\u001b[39;00m error \u001b[39min\u001b[39;00m assertion(obj, \u001b[39m*\u001b[39m\u001b[39m*\u001b[39mkwargs):\n\u001b[1;32m    738\u001b[0m             \u001b[39myield\u001b[39;00m \u001b[39mself\u001b[39m\u001b[39m.\u001b[39mvalidation_error(validation, error, \u001b[39m*\u001b[39m\u001b[39m*\u001b[39mkwargs)\n\u001b[0;32m--> 740\u001b[0m \u001b[39mfor\u001b[39;00m result \u001b[39min\u001b[39;00m content_decoder\u001b[39m.\u001b[39miter_decode(obj, validation, \u001b[39m*\u001b[39m\u001b[39m*\u001b[39mkwargs):\n\u001b[1;32m    741\u001b[0m     \u001b[39mif\u001b[39;00m \u001b[39misinstance\u001b[39m(result, XMLSchemaValidationError):\n\u001b[1;32m    742\u001b[0m         \u001b[39myield\u001b[39;00m \u001b[39mself\u001b[39m\u001b[39m.\u001b[39mvalidation_error(validation, result, obj, \u001b[39m*\u001b[39m\u001b[39m*\u001b[39mkwargs)\n",
      "File \u001b[0;32m/Library/Frameworks/Python.framework/Versions/3.11/lib/python3.11/site-packages/xmlschema/validators/groups.py:1021\u001b[0m, in \u001b[0;36mXsdGroup.iter_decode\u001b[0;34m(self, obj, validation, **kwargs)\u001b[0m\n\u001b[1;32m   1018\u001b[0m         result_list\u001b[39m.\u001b[39mappend((child\u001b[39m.\u001b[39mtag, func(xsd_element), xsd_element))\n\u001b[1;32m   1019\u001b[0m     \u001b[39mcontinue\u001b[39;00m\n\u001b[0;32m-> 1021\u001b[0m \u001b[39mfor\u001b[39;00m result \u001b[39min\u001b[39;00m xsd_element\u001b[39m.\u001b[39miter_decode(child, validation, \u001b[39m*\u001b[39m\u001b[39m*\u001b[39mkwargs):\n\u001b[1;32m   1022\u001b[0m     \u001b[39mif\u001b[39;00m \u001b[39misinstance\u001b[39m(result, XMLSchemaValidationError):\n\u001b[1;32m   1023\u001b[0m         \u001b[39myield\u001b[39;00m result\n",
      "File \u001b[0;32m/Library/Frameworks/Python.framework/Versions/3.11/lib/python3.11/site-packages/xmlschema/validators/elements.py:740\u001b[0m, in \u001b[0;36mXsdElement.iter_decode\u001b[0;34m(self, obj, validation, **kwargs)\u001b[0m\n\u001b[1;32m    737\u001b[0m         \u001b[39mfor\u001b[39;00m error \u001b[39min\u001b[39;00m assertion(obj, \u001b[39m*\u001b[39m\u001b[39m*\u001b[39mkwargs):\n\u001b[1;32m    738\u001b[0m             \u001b[39myield\u001b[39;00m \u001b[39mself\u001b[39m\u001b[39m.\u001b[39mvalidation_error(validation, error, \u001b[39m*\u001b[39m\u001b[39m*\u001b[39mkwargs)\n\u001b[0;32m--> 740\u001b[0m \u001b[39mfor\u001b[39;00m result \u001b[39min\u001b[39;00m content_decoder\u001b[39m.\u001b[39miter_decode(obj, validation, \u001b[39m*\u001b[39m\u001b[39m*\u001b[39mkwargs):\n\u001b[1;32m    741\u001b[0m     \u001b[39mif\u001b[39;00m \u001b[39misinstance\u001b[39m(result, XMLSchemaValidationError):\n\u001b[1;32m    742\u001b[0m         \u001b[39myield\u001b[39;00m \u001b[39mself\u001b[39m\u001b[39m.\u001b[39mvalidation_error(validation, result, obj, \u001b[39m*\u001b[39m\u001b[39m*\u001b[39mkwargs)\n",
      "File \u001b[0;32m/Library/Frameworks/Python.framework/Versions/3.11/lib/python3.11/site-packages/xmlschema/validators/groups.py:1021\u001b[0m, in \u001b[0;36mXsdGroup.iter_decode\u001b[0;34m(self, obj, validation, **kwargs)\u001b[0m\n\u001b[1;32m   1018\u001b[0m         result_list\u001b[39m.\u001b[39mappend((child\u001b[39m.\u001b[39mtag, func(xsd_element), xsd_element))\n\u001b[1;32m   1019\u001b[0m     \u001b[39mcontinue\u001b[39;00m\n\u001b[0;32m-> 1021\u001b[0m \u001b[39mfor\u001b[39;00m result \u001b[39min\u001b[39;00m xsd_element\u001b[39m.\u001b[39miter_decode(child, validation, \u001b[39m*\u001b[39m\u001b[39m*\u001b[39mkwargs):\n\u001b[1;32m   1022\u001b[0m     \u001b[39mif\u001b[39;00m \u001b[39misinstance\u001b[39m(result, XMLSchemaValidationError):\n\u001b[1;32m   1023\u001b[0m         \u001b[39myield\u001b[39;00m result\n",
      "    \u001b[0;31m[... skipping similar frames: XsdElement.iter_decode at line 740 (2 times), XsdGroup.iter_decode at line 1021 (2 times)]\u001b[0m\n",
      "File \u001b[0;32m/Library/Frameworks/Python.framework/Versions/3.11/lib/python3.11/site-packages/xmlschema/validators/elements.py:740\u001b[0m, in \u001b[0;36mXsdElement.iter_decode\u001b[0;34m(self, obj, validation, **kwargs)\u001b[0m\n\u001b[1;32m    737\u001b[0m         \u001b[39mfor\u001b[39;00m error \u001b[39min\u001b[39;00m assertion(obj, \u001b[39m*\u001b[39m\u001b[39m*\u001b[39mkwargs):\n\u001b[1;32m    738\u001b[0m             \u001b[39myield\u001b[39;00m \u001b[39mself\u001b[39m\u001b[39m.\u001b[39mvalidation_error(validation, error, \u001b[39m*\u001b[39m\u001b[39m*\u001b[39mkwargs)\n\u001b[0;32m--> 740\u001b[0m \u001b[39mfor\u001b[39;00m result \u001b[39min\u001b[39;00m content_decoder\u001b[39m.\u001b[39miter_decode(obj, validation, \u001b[39m*\u001b[39m\u001b[39m*\u001b[39mkwargs):\n\u001b[1;32m    741\u001b[0m     \u001b[39mif\u001b[39;00m \u001b[39misinstance\u001b[39m(result, XMLSchemaValidationError):\n\u001b[1;32m    742\u001b[0m         \u001b[39myield\u001b[39;00m \u001b[39mself\u001b[39m\u001b[39m.\u001b[39mvalidation_error(validation, result, obj, \u001b[39m*\u001b[39m\u001b[39m*\u001b[39mkwargs)\n",
      "File \u001b[0;32m/Library/Frameworks/Python.framework/Versions/3.11/lib/python3.11/site-packages/xmlschema/validators/groups.py:1021\u001b[0m, in \u001b[0;36mXsdGroup.iter_decode\u001b[0;34m(self, obj, validation, **kwargs)\u001b[0m\n\u001b[1;32m   1018\u001b[0m         result_list\u001b[39m.\u001b[39mappend((child\u001b[39m.\u001b[39mtag, func(xsd_element), xsd_element))\n\u001b[1;32m   1019\u001b[0m     \u001b[39mcontinue\u001b[39;00m\n\u001b[0;32m-> 1021\u001b[0m \u001b[39mfor\u001b[39;00m result \u001b[39min\u001b[39;00m xsd_element\u001b[39m.\u001b[39miter_decode(child, validation, \u001b[39m*\u001b[39m\u001b[39m*\u001b[39mkwargs):\n\u001b[1;32m   1022\u001b[0m     \u001b[39mif\u001b[39;00m \u001b[39misinstance\u001b[39m(result, XMLSchemaValidationError):\n\u001b[1;32m   1023\u001b[0m         \u001b[39myield\u001b[39;00m result\n",
      "File \u001b[0;32m/Library/Frameworks/Python.framework/Versions/3.11/lib/python3.11/site-packages/xmlschema/validators/elements.py:835\u001b[0m, in \u001b[0;36mXsdElement.iter_decode\u001b[0;34m(self, obj, validation, **kwargs)\u001b[0m\n\u001b[1;32m    832\u001b[0m     \u001b[39mdel\u001b[39;00m content\n\u001b[1;32m    834\u001b[0m \u001b[39mif\u001b[39;00m \u001b[39mself\u001b[39m\u001b[39m.\u001b[39mselected_by:\n\u001b[0;32m--> 835\u001b[0m     \u001b[39myield from\u001b[39;00m \u001b[39mself\u001b[39m\u001b[39m.\u001b[39mcollect_key_fields(obj, xsd_type, validation, nilled, \u001b[39m*\u001b[39m\u001b[39m*\u001b[39mkwargs)\n\u001b[1;32m    837\u001b[0m \u001b[39m# Apply non XSD optional validations\u001b[39;00m\n\u001b[1;32m    838\u001b[0m \u001b[39mif\u001b[39;00m \u001b[39m'\u001b[39m\u001b[39mextra_validator\u001b[39m\u001b[39m'\u001b[39m \u001b[39min\u001b[39;00m kwargs:\n",
      "File \u001b[0;32m/Library/Frameworks/Python.framework/Versions/3.11/lib/python3.11/site-packages/xmlschema/validators/elements.py:900\u001b[0m, in \u001b[0;36mXsdElement.collect_key_fields\u001b[0;34m(self, elem, xsd_type, validation, nilled, **kwargs)\u001b[0m\n\u001b[1;32m    897\u001b[0m root_node \u001b[39m=\u001b[39m resource\u001b[39m.\u001b[39mget_xpath_node(counter\u001b[39m.\u001b[39melem)\n\u001b[1;32m    898\u001b[0m context \u001b[39m=\u001b[39m XPathContext(root_node)\n\u001b[0;32m--> 900\u001b[0m \u001b[39mfor\u001b[39;00m item \u001b[39min\u001b[39;00m identity\u001b[39m.\u001b[39mselector\u001b[39m.\u001b[39mtoken\u001b[39m.\u001b[39mselect_results(context):  \u001b[39m# type: ignore\u001b[39;00m\n\u001b[1;32m    901\u001b[0m     \u001b[39mif\u001b[39;00m item \u001b[39mis\u001b[39;00m elem:\n\u001b[1;32m    902\u001b[0m         \u001b[39mbreak\u001b[39;00m\n",
      "File \u001b[0;32m/Library/Frameworks/Python.framework/Versions/3.11/lib/python3.11/site-packages/elementpath/xpath_tokens.py:551\u001b[0m, in \u001b[0;36mXPathToken.select_results\u001b[0;34m(self, context)\u001b[0m\n\u001b[1;32m    548\u001b[0m \u001b[39mif\u001b[39;00m context \u001b[39mis\u001b[39;00m \u001b[39mnot\u001b[39;00m \u001b[39mNone\u001b[39;00m:\n\u001b[1;32m    549\u001b[0m     \u001b[39mself\u001b[39m\u001b[39m.\u001b[39mparser\u001b[39m.\u001b[39mcheck_variables(context\u001b[39m.\u001b[39mvariables)\n\u001b[0;32m--> 551\u001b[0m \u001b[39mfor\u001b[39;00m result \u001b[39min\u001b[39;00m \u001b[39mself\u001b[39m\u001b[39m.\u001b[39mselect(context):\n\u001b[1;32m    552\u001b[0m     \u001b[39mif\u001b[39;00m \u001b[39mnot\u001b[39;00m \u001b[39misinstance\u001b[39m(result, XPathNode):\n\u001b[1;32m    553\u001b[0m         \u001b[39myield\u001b[39;00m result\n",
      "File \u001b[0;32m/Library/Frameworks/Python.framework/Versions/3.11/lib/python3.11/site-packages/elementpath/xpath1/_xpath1_operators.py:765\u001b[0m, in \u001b[0;36mselect_descendant_path\u001b[0;34m(self, context)\u001b[0m\n\u001b[1;32m    762\u001b[0m     \u001b[39mraise\u001b[39;00m \u001b[39mself\u001b[39m\u001b[39m.\u001b[39merror(\u001b[39m'\u001b[39m\u001b[39mXPTY0019\u001b[39m\u001b[39m'\u001b[39m)\n\u001b[1;32m    764\u001b[0m \u001b[39mfor\u001b[39;00m _ \u001b[39min\u001b[39;00m context\u001b[39m.\u001b[39miter_descendants():\n\u001b[0;32m--> 765\u001b[0m     \u001b[39mfor\u001b[39;00m result \u001b[39min\u001b[39;00m \u001b[39mself\u001b[39m[\u001b[39m1\u001b[39m]\u001b[39m.\u001b[39mselect(context):\n\u001b[1;32m    766\u001b[0m         \u001b[39mif\u001b[39;00m \u001b[39mnot\u001b[39;00m \u001b[39misinstance\u001b[39m(result, XPathNode):\n\u001b[1;32m    767\u001b[0m             \u001b[39myield\u001b[39;00m result\n",
      "File \u001b[0;32m/Library/Frameworks/Python.framework/Versions/3.11/lib/python3.11/site-packages/elementpath/xpath1/_xpath1_operators.py:218\u001b[0m, in \u001b[0;36m_PrefixedReferenceToken.select\u001b[0;34m(self, context)\u001b[0m\n\u001b[1;32m    216\u001b[0m     name \u001b[39m=\u001b[39m \u001b[39m'\u001b[39m\u001b[39m*:\u001b[39m\u001b[39m%s\u001b[39;00m\u001b[39m'\u001b[39m \u001b[39m%\u001b[39m \u001b[39mself\u001b[39m[\u001b[39m1\u001b[39m]\u001b[39m.\u001b[39mvalue\n\u001b[1;32m    217\u001b[0m \u001b[39melse\u001b[39;00m:\n\u001b[0;32m--> 218\u001b[0m     name \u001b[39m=\u001b[39m \u001b[39m'\u001b[39m\u001b[39m{\u001b[39m\u001b[39m%s\u001b[39;00m\u001b[39m}\u001b[39m\u001b[39m%s\u001b[39;00m\u001b[39m'\u001b[39m \u001b[39m%\u001b[39m (\u001b[39mself\u001b[39;49m\u001b[39m.\u001b[39;49mget_namespace(\u001b[39mself\u001b[39;49m[\u001b[39m0\u001b[39;49m]\u001b[39m.\u001b[39;49mvalue), \u001b[39mself\u001b[39m[\u001b[39m1\u001b[39m]\u001b[39m.\u001b[39mvalue)\n\u001b[1;32m    220\u001b[0m \u001b[39mif\u001b[39;00m context \u001b[39mis\u001b[39;00m \u001b[39mNone\u001b[39;00m:\n\u001b[1;32m    221\u001b[0m     \u001b[39mraise\u001b[39;00m \u001b[39mself\u001b[39m\u001b[39m.\u001b[39mmissing_context()\n",
      "File \u001b[0;32m/Library/Frameworks/Python.framework/Versions/3.11/lib/python3.11/site-packages/elementpath/xpath_tokens.py:690\u001b[0m, in \u001b[0;36mXPathToken.get_namespace\u001b[0;34m(self, prefix)\u001b[0m\n\u001b[1;32m    687\u001b[0m         \u001b[39mreturn\u001b[39;00m urllib\u001b[39m.\u001b[39mparse\u001b[39m.\u001b[39murljoin(base_uri, uri)\n\u001b[1;32m    688\u001b[0m     \u001b[39mreturn\u001b[39;00m AnyURI(urllib\u001b[39m.\u001b[39mparse\u001b[39m.\u001b[39murljoin(base_uri, uri))\n\u001b[0;32m--> 690\u001b[0m \u001b[39mdef\u001b[39;00m \u001b[39mget_namespace\u001b[39m(\u001b[39mself\u001b[39m, prefix: \u001b[39mstr\u001b[39m) \u001b[39m-\u001b[39m\u001b[39m>\u001b[39m \u001b[39mstr\u001b[39m:\n\u001b[1;32m    691\u001b[0m     \u001b[39m\"\"\"\u001b[39;00m\n\u001b[1;32m    692\u001b[0m \u001b[39m    Resolves a prefix to a namespace raising an error (FONS0004) if the\u001b[39;00m\n\u001b[1;32m    693\u001b[0m \u001b[39m    prefix is not found in the namespace map.\u001b[39;00m\n\u001b[1;32m    694\u001b[0m \u001b[39m    \"\"\"\u001b[39;00m\n\u001b[1;32m    695\u001b[0m     \u001b[39mtry\u001b[39;00m:\n",
      "\u001b[0;31mKeyboardInterrupt\u001b[0m: "
     ]
    }
   ],
   "source": [
    "from sas7bdat import SAS7BDAT\n",
    "import pandas as pd\n",
    "from bs4 import BeautifulSoup\n",
    "import requests\n",
    "import xml.etree.ElementTree as ET\n",
    "import xmlschema\n",
    "\n",
    "## Specially Designated Nationals List - Data Formats & Data Schemas\n",
    "## https://ofac.treasury.gov/specially-designated-nationals-list-data-formats-data-schemas\n",
    "\n",
    "# XSD\n",
    "xsd_url = 'https://www.treasury.gov/ofac/downloads/sanctions/1.0/sdn_advanced.xsd'\n",
    "response_xsd = requests.get(xsd_url)\n",
    "xsd_text = response_xsd.text\n",
    "\n",
    "xsd = xmlschema.XMLSchema(xsd_text)\n",
    "\n",
    "# XML file \n",
    "url = 'https://www.treasury.gov/ofac/downloads/sanctions/1.0/cons_advanced.xml'\n",
    "response = requests.get(url)\n",
    "xml_text = response.text\n",
    "\n",
    "\n",
    "root = ET.fromstring(xml_text)\n",
    "\n",
    "# Validate the XML file against the XSD\n",
    "if xsd.is_valid(xml_text):\n",
    "    # Parse the XML file into a dataframe\n",
    "    xml_data = xsd.to_dict(xml_text)\n",
    "    df = pd.DataFrame(xml_data['root']['row'])\n",
    "    \n",
    "    # Print the dataframe\n",
    "    print(df)\n",
    "else:\n",
    "    # Print an error message if the XML file is not valid\n",
    "    print('Error: The XML file does not conform to the XSD.')\n"
   ]
  },
  {
   "cell_type": "markdown",
   "metadata": {},
   "source": []
  }
 ],
 "metadata": {
  "kernelspec": {
   "display_name": "Python 3",
   "language": "python",
   "name": "python3"
  },
  "language_info": {
   "codemirror_mode": {
    "name": "ipython",
    "version": 3
   },
   "file_extension": ".py",
   "mimetype": "text/x-python",
   "name": "python",
   "nbconvert_exporter": "python",
   "pygments_lexer": "ipython3",
   "version": "3.11.0"
  },
  "orig_nbformat": 4
 },
 "nbformat": 4,
 "nbformat_minor": 2
}
